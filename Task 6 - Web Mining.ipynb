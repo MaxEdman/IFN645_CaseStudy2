{
 "cells": [
  {
   "cell_type": "code",
   "execution_count": 1,
   "metadata": {},
   "outputs": [
    {
     "name": "stdout",
     "output_type": "stream",
     "text": [
      "ip,date_time,request,step,session,user_id\n",
      "\n",
      "c210-49-32-6.rochd2.,18/Apr/2005:21:25:07,/,1,3,3\n",
      "\n",
      "visp.inabox.telstra.,19/Apr/2005:08:24:28,/,1,12,12\n",
      "\n"
     ]
    }
   ],
   "source": [
    "import pandas as pd\n",
    "import numpy as np\n",
    "\n",
    "wdata = open('datasets/web_log_data.csv','r').readlines()\n",
    "\n",
    "print('\\n'.join(wdata[:3]))"
   ]
  },
  {
   "cell_type": "code",
   "execution_count": 2,
   "metadata": {
    "collapsed": true
   },
   "outputs": [],
   "source": [
    "# set names of pandas dataframe\n",
    "names=['Host','Datetime', 'Request', 'Step', 'Session', 'User_ID']\n",
    "# read the dataframe\n",
    "df = pd.read_csv('datasets/web_log_data.csv', sep=',', names=names, header=None)"
   ]
  },
  {
   "cell_type": "code",
   "execution_count": 3,
   "metadata": {},
   "outputs": [
    {
     "data": {
      "text/html": [
       "<div>\n",
       "<style>\n",
       "    .dataframe thead tr:only-child th {\n",
       "        text-align: right;\n",
       "    }\n",
       "\n",
       "    .dataframe thead th {\n",
       "        text-align: left;\n",
       "    }\n",
       "\n",
       "    .dataframe tbody tr th {\n",
       "        vertical-align: top;\n",
       "    }\n",
       "</style>\n",
       "<table border=\"1\" class=\"dataframe\">\n",
       "  <thead>\n",
       "    <tr style=\"text-align: right;\">\n",
       "      <th></th>\n",
       "      <th>Host</th>\n",
       "      <th>Datetime</th>\n",
       "      <th>Request</th>\n",
       "      <th>Step</th>\n",
       "      <th>Session</th>\n",
       "      <th>User_ID</th>\n",
       "    </tr>\n",
       "  </thead>\n",
       "  <tbody>\n",
       "    <tr>\n",
       "      <th>0</th>\n",
       "      <td>ip</td>\n",
       "      <td>date_time</td>\n",
       "      <td>request</td>\n",
       "      <td>step</td>\n",
       "      <td>session</td>\n",
       "      <td>user_id</td>\n",
       "    </tr>\n",
       "    <tr>\n",
       "      <th>1</th>\n",
       "      <td>c210-49-32-6.rochd2.</td>\n",
       "      <td>18/Apr/2005:21:25:07</td>\n",
       "      <td>/</td>\n",
       "      <td>1</td>\n",
       "      <td>3</td>\n",
       "      <td>3</td>\n",
       "    </tr>\n",
       "    <tr>\n",
       "      <th>2</th>\n",
       "      <td>visp.inabox.telstra.</td>\n",
       "      <td>19/Apr/2005:08:24:28</td>\n",
       "      <td>/</td>\n",
       "      <td>1</td>\n",
       "      <td>12</td>\n",
       "      <td>12</td>\n",
       "    </tr>\n",
       "    <tr>\n",
       "      <th>3</th>\n",
       "      <td>dsl-61-95-54-84.requ</td>\n",
       "      <td>19/Apr/2005:08:33:01</td>\n",
       "      <td>/</td>\n",
       "      <td>1</td>\n",
       "      <td>13</td>\n",
       "      <td>13</td>\n",
       "    </tr>\n",
       "    <tr>\n",
       "      <th>4</th>\n",
       "      <td>d220-236-91-52.dsl.n</td>\n",
       "      <td>19/Apr/2005:09:16:06</td>\n",
       "      <td>/</td>\n",
       "      <td>1</td>\n",
       "      <td>15</td>\n",
       "      <td>15</td>\n",
       "    </tr>\n",
       "  </tbody>\n",
       "</table>\n",
       "</div>"
      ],
      "text/plain": [
       "                   Host              Datetime  Request  Step  Session  User_ID\n",
       "0                    ip             date_time  request  step  session  user_id\n",
       "1  c210-49-32-6.rochd2.  18/Apr/2005:21:25:07        /     1        3        3\n",
       "2  visp.inabox.telstra.  19/Apr/2005:08:24:28        /     1       12       12\n",
       "3  dsl-61-95-54-84.requ  19/Apr/2005:08:33:01        /     1       13       13\n",
       "4  d220-236-91-52.dsl.n  19/Apr/2005:09:16:06        /     1       15       15"
      ]
     },
     "execution_count": 3,
     "metadata": {},
     "output_type": "execute_result"
    }
   ],
   "source": [
    "df.head()"
   ]
  },
  {
   "cell_type": "code",
   "execution_count": 7,
   "metadata": {
    "scrolled": true
   },
   "outputs": [
    {
     "name": "stdout",
     "output_type": "stream",
     "text": [
      "# Rows before: 5867\n",
      "After images removal 4459\n",
      "<class 'pandas.core.frame.DataFrame'>\n",
      "Int64Index: 4459 entries, 0 to 5866\n",
      "Data columns (total 6 columns):\n",
      "Host        4459 non-null object\n",
      "Datetime    4459 non-null object\n",
      "Request     4459 non-null object\n",
      "Step        4459 non-null object\n",
      "Session     4459 non-null object\n",
      "User_ID     4459 non-null object\n",
      "dtypes: object(6)\n",
      "memory usage: 243.9+ KB\n"
     ]
    }
   ],
   "source": [
    "mask = (df['Request'].str.endswith('.css') | df['Request'].str.endswith('.ico') | df['Request'].str.endswith('.js') | df['Request'].str.endswith('.txt'))\n",
    "print(\"# Rows before:\", len(df))\n",
    "\n",
    "# invert the mask, only keep records without the wrong extensions in the request column\n",
    "df2 = df[~mask]\n",
    "\n",
    "print(\"After images removal\", len(df2))\n",
    "df2.info()"
   ]
  },
  {
   "cell_type": "code",
   "execution_count": null,
   "metadata": {},
   "outputs": [],
   "source": [
    "#This doesn't seem to work\n",
    "#for hosts in df2['Host']:\n",
    " #   if hosts.rfind('/') != 0:\n",
    " #       hosts + '/'\n",
    "\n",
    "        \n"
   ]
  },
  {
   "cell_type": "code",
   "execution_count": null,
   "metadata": {},
   "outputs": [],
   "source": []
  },
  {
   "cell_type": "code",
   "execution_count": null,
   "metadata": {},
   "outputs": [],
   "source": []
  },
  {
   "cell_type": "code",
   "execution_count": null,
   "metadata": {
    "collapsed": true
   },
   "outputs": [],
   "source": []
  }
 ],
 "metadata": {
  "kernelspec": {
   "display_name": "Python 3",
   "language": "python",
   "name": "python3"
  },
  "language_info": {
   "codemirror_mode": {
    "name": "ipython",
    "version": 3
   },
   "file_extension": ".py",
   "mimetype": "text/x-python",
   "name": "python",
   "nbconvert_exporter": "python",
   "pygments_lexer": "ipython3",
   "version": "3.6.2"
  }
 },
 "nbformat": 4,
 "nbformat_minor": 2
}
