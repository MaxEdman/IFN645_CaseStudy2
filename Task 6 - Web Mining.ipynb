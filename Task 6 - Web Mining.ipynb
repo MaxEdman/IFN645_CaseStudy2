{
 "cells": [
  {
   "cell_type": "code",
   "execution_count": 2,
   "metadata": {},
   "outputs": [
    {
     "name": "stdout",
     "output_type": "stream",
     "text": [
      "ip,date_time,request,step,session,user_id\n",
      "\n",
      "c210-49-32-6.rochd2.,18/Apr/2005:21:25:07,/,1,3,3\n",
      "\n",
      "visp.inabox.telstra.,19/Apr/2005:08:24:28,/,1,12,12\n",
      "\n"
     ]
    }
   ],
   "source": [
    "import pandas as pd\n",
    "import numpy as np\n",
    "\n",
    "wdata = open('datasets/web_log_data.csv','r').readlines()\n",
    "\n",
    "print('\\n'.join(wdata[:3]))"
   ]
  },
  {
   "cell_type": "code",
   "execution_count": 60,
   "metadata": {
    "collapsed": true
   },
   "outputs": [],
   "source": [
    "# set names of pandas dataframe\n",
    "names=['Host','Datetime', 'Request', 'Step', 'Session', 'User_ID']\n",
    "# read the dataframe\n",
    "df = pd.read_csv('datasets/web_log_data.csv', sep=',', names=names, header=None)"
   ]
  },
  {
   "cell_type": "code",
   "execution_count": 61,
   "metadata": {},
   "outputs": [
    {
     "data": {
      "text/html": [
       "<div>\n",
       "<style>\n",
       "    .dataframe thead tr:only-child th {\n",
       "        text-align: right;\n",
       "    }\n",
       "\n",
       "    .dataframe thead th {\n",
       "        text-align: left;\n",
       "    }\n",
       "\n",
       "    .dataframe tbody tr th {\n",
       "        vertical-align: top;\n",
       "    }\n",
       "</style>\n",
       "<table border=\"1\" class=\"dataframe\">\n",
       "  <thead>\n",
       "    <tr style=\"text-align: right;\">\n",
       "      <th></th>\n",
       "      <th>Host</th>\n",
       "      <th>Datetime</th>\n",
       "      <th>Request</th>\n",
       "      <th>Step</th>\n",
       "      <th>Session</th>\n",
       "      <th>User_ID</th>\n",
       "    </tr>\n",
       "  </thead>\n",
       "  <tbody>\n",
       "    <tr>\n",
       "      <th>0</th>\n",
       "      <td>ip</td>\n",
       "      <td>date_time</td>\n",
       "      <td>request</td>\n",
       "      <td>step</td>\n",
       "      <td>session</td>\n",
       "      <td>user_id</td>\n",
       "    </tr>\n",
       "    <tr>\n",
       "      <th>1</th>\n",
       "      <td>c210-49-32-6.rochd2.</td>\n",
       "      <td>18/Apr/2005:21:25:07</td>\n",
       "      <td>/</td>\n",
       "      <td>1</td>\n",
       "      <td>3</td>\n",
       "      <td>3</td>\n",
       "    </tr>\n",
       "    <tr>\n",
       "      <th>2</th>\n",
       "      <td>visp.inabox.telstra.</td>\n",
       "      <td>19/Apr/2005:08:24:28</td>\n",
       "      <td>/</td>\n",
       "      <td>1</td>\n",
       "      <td>12</td>\n",
       "      <td>12</td>\n",
       "    </tr>\n",
       "    <tr>\n",
       "      <th>3</th>\n",
       "      <td>dsl-61-95-54-84.requ</td>\n",
       "      <td>19/Apr/2005:08:33:01</td>\n",
       "      <td>/</td>\n",
       "      <td>1</td>\n",
       "      <td>13</td>\n",
       "      <td>13</td>\n",
       "    </tr>\n",
       "    <tr>\n",
       "      <th>4</th>\n",
       "      <td>d220-236-91-52.dsl.n</td>\n",
       "      <td>19/Apr/2005:09:16:06</td>\n",
       "      <td>/</td>\n",
       "      <td>1</td>\n",
       "      <td>15</td>\n",
       "      <td>15</td>\n",
       "    </tr>\n",
       "  </tbody>\n",
       "</table>\n",
       "</div>"
      ],
      "text/plain": [
       "                   Host              Datetime  Request  Step  Session  User_ID\n",
       "0                    ip             date_time  request  step  session  user_id\n",
       "1  c210-49-32-6.rochd2.  18/Apr/2005:21:25:07        /     1        3        3\n",
       "2  visp.inabox.telstra.  19/Apr/2005:08:24:28        /     1       12       12\n",
       "3  dsl-61-95-54-84.requ  19/Apr/2005:08:33:01        /     1       13       13\n",
       "4  d220-236-91-52.dsl.n  19/Apr/2005:09:16:06        /     1       15       15"
      ]
     },
     "execution_count": 61,
     "metadata": {},
     "output_type": "execute_result"
    }
   ],
   "source": [
    "df.head()"
   ]
  },
  {
   "cell_type": "code",
   "execution_count": 50,
   "metadata": {},
   "outputs": [
    {
     "data": {
      "text/html": [
       "<div>\n",
       "<style>\n",
       "    .dataframe thead tr:only-child th {\n",
       "        text-align: right;\n",
       "    }\n",
       "\n",
       "    .dataframe thead th {\n",
       "        text-align: left;\n",
       "    }\n",
       "\n",
       "    .dataframe tbody tr th {\n",
       "        vertical-align: top;\n",
       "    }\n",
       "</style>\n",
       "<table border=\"1\" class=\"dataframe\">\n",
       "  <thead>\n",
       "    <tr style=\"text-align: right;\">\n",
       "      <th></th>\n",
       "      <th>Host</th>\n",
       "      <th>Date and time</th>\n",
       "      <th>Request</th>\n",
       "      <th>Step</th>\n",
       "      <th>Session</th>\n",
       "      <th>User_ID</th>\n",
       "      <th>Method</th>\n",
       "      <th>Protocol</th>\n",
       "    </tr>\n",
       "  </thead>\n",
       "  <tbody>\n",
       "    <tr>\n",
       "      <th>0</th>\n",
       "      <td>ip</td>\n",
       "      <td>date_time</td>\n",
       "      <td></td>\n",
       "      <td>step</td>\n",
       "      <td>session</td>\n",
       "      <td>user_id</td>\n",
       "      <td>request</td>\n",
       "      <td>request</td>\n",
       "    </tr>\n",
       "    <tr>\n",
       "      <th>1</th>\n",
       "      <td>c210-49-32-6.rochd2.</td>\n",
       "      <td>18/Apr/2005:21:25:07</td>\n",
       "      <td></td>\n",
       "      <td>1</td>\n",
       "      <td>3</td>\n",
       "      <td>3</td>\n",
       "      <td>/</td>\n",
       "      <td>/</td>\n",
       "    </tr>\n",
       "    <tr>\n",
       "      <th>2</th>\n",
       "      <td>visp.inabox.telstra.</td>\n",
       "      <td>19/Apr/2005:08:24:28</td>\n",
       "      <td></td>\n",
       "      <td>1</td>\n",
       "      <td>12</td>\n",
       "      <td>12</td>\n",
       "      <td>/</td>\n",
       "      <td>/</td>\n",
       "    </tr>\n",
       "    <tr>\n",
       "      <th>3</th>\n",
       "      <td>dsl-61-95-54-84.requ</td>\n",
       "      <td>19/Apr/2005:08:33:01</td>\n",
       "      <td></td>\n",
       "      <td>1</td>\n",
       "      <td>13</td>\n",
       "      <td>13</td>\n",
       "      <td>/</td>\n",
       "      <td>/</td>\n",
       "    </tr>\n",
       "    <tr>\n",
       "      <th>4</th>\n",
       "      <td>d220-236-91-52.dsl.n</td>\n",
       "      <td>19/Apr/2005:09:16:06</td>\n",
       "      <td></td>\n",
       "      <td>1</td>\n",
       "      <td>15</td>\n",
       "      <td>15</td>\n",
       "      <td>/</td>\n",
       "      <td>/</td>\n",
       "    </tr>\n",
       "  </tbody>\n",
       "</table>\n",
       "</div>"
      ],
      "text/plain": [
       "                   Host         Date and time Request  Step  Session  User_ID  \\\n",
       "0                    ip             date_time          step  session  user_id   \n",
       "1  c210-49-32-6.rochd2.  18/Apr/2005:21:25:07             1        3        3   \n",
       "2  visp.inabox.telstra.  19/Apr/2005:08:24:28             1       12       12   \n",
       "3  dsl-61-95-54-84.requ  19/Apr/2005:08:33:01             1       13       13   \n",
       "4  d220-236-91-52.dsl.n  19/Apr/2005:09:16:06             1       15       15   \n",
       "\n",
       "    Method Protocol  \n",
       "0  request  request  \n",
       "1        /        /  \n",
       "2        /        /  \n",
       "3        /        /  \n",
       "4        /        /  "
      ]
     },
     "execution_count": 50,
     "metadata": {},
     "output_type": "execute_result"
    }
   ],
   "source": [
    "def extract_method_and_protocol(row):\n",
    "    # function to extract HTTP request method and protocol from a request string\n",
    "    request_splits = row['Request'].split()  # split request string by space\n",
    "    row['Method'] = request_splits[0]\n",
    "    row['Protocol'] = request_splits[-1]\n",
    "    row['Request'] = ' '.join(request_splits[1:-1])  # stitch remaining request string back\n",
    "    return row\n",
    "\n",
    "df = df.apply(extract_method_and_protocol, axis=1)\n",
    "\n",
    "# show the result\n",
    "df.head()"
   ]
  },
  {
   "cell_type": "code",
   "execution_count": 51,
   "metadata": {},
   "outputs": [
    {
     "name": "stdout",
     "output_type": "stream",
     "text": [
      "<class 'pandas.core.frame.DataFrame'>\n",
      "RangeIndex: 5867 entries, 0 to 5866\n",
      "Data columns (total 8 columns):\n",
      "Host             5867 non-null object\n",
      "Date and time    5867 non-null object\n",
      "Request          5867 non-null object\n",
      "Step             5867 non-null object\n",
      "Session          5867 non-null object\n",
      "User_ID          5867 non-null object\n",
      "Method           5867 non-null object\n",
      "Protocol         5867 non-null object\n",
      "dtypes: object(8)\n",
      "memory usage: 366.8+ KB\n"
     ]
    }
   ],
   "source": [
    "df.info()"
   ]
  },
  {
   "cell_type": "code",
   "execution_count": 64,
   "metadata": {
    "scrolled": false
   },
   "outputs": [
    {
     "name": "stdout",
     "output_type": "stream",
     "text": [
      "# Rows before: 5867\n",
      "After images removal 5867\n"
     ]
    }
   ],
   "source": [
    "mask = (df['Request'].str.endswith('.gif') | df['Request'].str.endswith('.jpg') | df['Request'].str.endswith('.jpeg'))\n",
    "print(\"# Rows before:\", len(df))\n",
    "\n",
    "# invert the mask, only keep records without .gif, .jpg and .jpeg in the request column\n",
    "df2 = df[~mask]\n",
    "\n",
    "print(\"After images removal\", len(df2))\n"
   ]
  },
  {
   "cell_type": "code",
   "execution_count": 79,
   "metadata": {
    "collapsed": true
   },
   "outputs": [],
   "source": [
    "from collections import defaultdict\n",
    "import datetime\n",
    "\n",
    "# first, make a copy of df2 just in case\n",
    "df3 = df2.copy()\n",
    "\n",
    "# sort the rows based on datetime, descending\n",
    "df3.sort_values(by='Datetime', inplace=True)\n",
    "\n",
    "# initiate session ID and user ID to 0\n",
    "session_id = 0\n",
    "user_id = 0\n",
    "\n",
    "# create a dictionaries to hold last access information\n",
    "last_access = defaultdict(lambda:datetime.datetime.utcfromtimestamp(0))\n",
    "\n",
    "# dictionary to find previous session, user ID and steps assigned to a specific date/ip/browser key\n",
    "session_dict = defaultdict(lambda:1)\n",
    "user_id_dict = defaultdict(lambda:1)\n",
    "session_steps = defaultdict(lambda:1)"
   ]
  },
  {
   "cell_type": "code",
   "execution_count": 91,
   "metadata": {
    "collapsed": true
   },
   "outputs": [],
   "source": [
    "\n",
    "# function to be applied row wise\n",
    "# for each row, produce session, user ID and path traversal\n",
    "def get_log_user_info(row):\n",
    "    # access global variables shared between all rows\n",
    "    global session_id, user_id, session_dict, user_id_dict, session_steps, last_access\n",
    "    \n",
    "    session_key = str(row['Datetime'].date()) + '_' + row['Host']  # date + IP key for finding session\n",
    "    time_diff_session = row['Datetime'] - last_access[session_key]  # session time diff\n",
    "    time_diff_user = row['Datetime'] - last_access[user_key]  # user time diff\n",
    "    \n",
    "    \n",
    "    # if the time diff from previous session is > 60 mins, assign new user ID\n",
    "    if time_diff_user.total_seconds() > 3600:\n",
    "        user_id += 1\n",
    "        user_id_dict[user_key] = user_id\n",
    "        \n",
    "    # update last access for session and user\n",
    "    last_access[session_key] = row['Datetime']\n",
    "    last_access[user_key] = row['Datetime']\n",
    "    \n",
    "    # assign extracted info from the row\n",
    "    row['Session'] = session_dict[session_key]\n",
    "    row['Step'] = session_steps[row['Session']]\n",
    "    row['User_ID'] = user_id_dict[user_key]\n",
    "    session_steps[row['Session']] += 1\n",
    "    return row\n",
    "    \n",
    "# apply function above to get a new dataframe with added information\n"
   ]
  },
  {
   "cell_type": "code",
   "execution_count": 92,
   "metadata": {},
   "outputs": [
    {
     "ename": "AttributeError",
     "evalue": "(\"'str' object has no attribute 'date'\", 'occurred at index 178')",
     "output_type": "error",
     "traceback": [
      "\u001b[1;31m---------------------------------------------------------------------------\u001b[0m",
      "\u001b[1;31mAttributeError\u001b[0m                            Traceback (most recent call last)",
      "\u001b[1;32m<ipython-input-92-1f3f1a5c33cb>\u001b[0m in \u001b[0;36m<module>\u001b[1;34m()\u001b[0m\n\u001b[1;32m----> 1\u001b[1;33m \u001b[0mdf3\u001b[0m \u001b[1;33m=\u001b[0m \u001b[0mdf3\u001b[0m\u001b[1;33m.\u001b[0m\u001b[0mapply\u001b[0m\u001b[1;33m(\u001b[0m\u001b[0mget_log_user_info\u001b[0m\u001b[1;33m,\u001b[0m \u001b[0maxis\u001b[0m\u001b[1;33m=\u001b[0m\u001b[1;36m1\u001b[0m\u001b[1;33m)\u001b[0m\u001b[1;33m\u001b[0m\u001b[0m\n\u001b[0m",
      "\u001b[1;32mC:\\Program Files (x86)\\Microsoft Visual Studio\\Shared\\Anaconda3_64\\lib\\site-packages\\pandas\\core\\frame.py\u001b[0m in \u001b[0;36mapply\u001b[1;34m(self, func, axis, broadcast, raw, reduce, args, **kwds)\u001b[0m\n\u001b[0;32m   4260\u001b[0m                         \u001b[0mf\u001b[0m\u001b[1;33m,\u001b[0m \u001b[0maxis\u001b[0m\u001b[1;33m,\u001b[0m\u001b[1;33m\u001b[0m\u001b[0m\n\u001b[0;32m   4261\u001b[0m                         \u001b[0mreduce\u001b[0m\u001b[1;33m=\u001b[0m\u001b[0mreduce\u001b[0m\u001b[1;33m,\u001b[0m\u001b[1;33m\u001b[0m\u001b[0m\n\u001b[1;32m-> 4262\u001b[1;33m                         ignore_failures=ignore_failures)\n\u001b[0m\u001b[0;32m   4263\u001b[0m             \u001b[1;32melse\u001b[0m\u001b[1;33m:\u001b[0m\u001b[1;33m\u001b[0m\u001b[0m\n\u001b[0;32m   4264\u001b[0m                 \u001b[1;32mreturn\u001b[0m \u001b[0mself\u001b[0m\u001b[1;33m.\u001b[0m\u001b[0m_apply_broadcast\u001b[0m\u001b[1;33m(\u001b[0m\u001b[0mf\u001b[0m\u001b[1;33m,\u001b[0m \u001b[0maxis\u001b[0m\u001b[1;33m)\u001b[0m\u001b[1;33m\u001b[0m\u001b[0m\n",
      "\u001b[1;32mC:\\Program Files (x86)\\Microsoft Visual Studio\\Shared\\Anaconda3_64\\lib\\site-packages\\pandas\\core\\frame.py\u001b[0m in \u001b[0;36m_apply_standard\u001b[1;34m(self, func, axis, ignore_failures, reduce)\u001b[0m\n\u001b[0;32m   4356\u001b[0m             \u001b[1;32mtry\u001b[0m\u001b[1;33m:\u001b[0m\u001b[1;33m\u001b[0m\u001b[0m\n\u001b[0;32m   4357\u001b[0m                 \u001b[1;32mfor\u001b[0m \u001b[0mi\u001b[0m\u001b[1;33m,\u001b[0m \u001b[0mv\u001b[0m \u001b[1;32min\u001b[0m \u001b[0menumerate\u001b[0m\u001b[1;33m(\u001b[0m\u001b[0mseries_gen\u001b[0m\u001b[1;33m)\u001b[0m\u001b[1;33m:\u001b[0m\u001b[1;33m\u001b[0m\u001b[0m\n\u001b[1;32m-> 4358\u001b[1;33m                     \u001b[0mresults\u001b[0m\u001b[1;33m[\u001b[0m\u001b[0mi\u001b[0m\u001b[1;33m]\u001b[0m \u001b[1;33m=\u001b[0m \u001b[0mfunc\u001b[0m\u001b[1;33m(\u001b[0m\u001b[0mv\u001b[0m\u001b[1;33m)\u001b[0m\u001b[1;33m\u001b[0m\u001b[0m\n\u001b[0m\u001b[0;32m   4359\u001b[0m                     \u001b[0mkeys\u001b[0m\u001b[1;33m.\u001b[0m\u001b[0mappend\u001b[0m\u001b[1;33m(\u001b[0m\u001b[0mv\u001b[0m\u001b[1;33m.\u001b[0m\u001b[0mname\u001b[0m\u001b[1;33m)\u001b[0m\u001b[1;33m\u001b[0m\u001b[0m\n\u001b[0;32m   4360\u001b[0m             \u001b[1;32mexcept\u001b[0m \u001b[0mException\u001b[0m \u001b[1;32mas\u001b[0m \u001b[0me\u001b[0m\u001b[1;33m:\u001b[0m\u001b[1;33m\u001b[0m\u001b[0m\n",
      "\u001b[1;32m<ipython-input-91-3877562bbb92>\u001b[0m in \u001b[0;36mget_log_user_info\u001b[1;34m(row)\u001b[0m\n\u001b[0;32m      6\u001b[0m     \u001b[1;32mglobal\u001b[0m \u001b[0msession_id\u001b[0m\u001b[1;33m,\u001b[0m \u001b[0muser_id\u001b[0m\u001b[1;33m,\u001b[0m \u001b[0msession_dict\u001b[0m\u001b[1;33m,\u001b[0m \u001b[0muser_id_dict\u001b[0m\u001b[1;33m,\u001b[0m \u001b[0msession_steps\u001b[0m\u001b[1;33m,\u001b[0m \u001b[0mlast_access\u001b[0m\u001b[1;33m\u001b[0m\u001b[0m\n\u001b[0;32m      7\u001b[0m \u001b[1;33m\u001b[0m\u001b[0m\n\u001b[1;32m----> 8\u001b[1;33m     \u001b[0msession_key\u001b[0m \u001b[1;33m=\u001b[0m \u001b[0mstr\u001b[0m\u001b[1;33m(\u001b[0m\u001b[0mrow\u001b[0m\u001b[1;33m[\u001b[0m\u001b[1;34m'Datetime'\u001b[0m\u001b[1;33m]\u001b[0m\u001b[1;33m.\u001b[0m\u001b[0mdate\u001b[0m\u001b[1;33m(\u001b[0m\u001b[1;33m)\u001b[0m\u001b[1;33m)\u001b[0m \u001b[1;33m+\u001b[0m \u001b[1;34m'_'\u001b[0m \u001b[1;33m+\u001b[0m \u001b[0mrow\u001b[0m\u001b[1;33m[\u001b[0m\u001b[1;34m'Host'\u001b[0m\u001b[1;33m]\u001b[0m  \u001b[1;31m# date + IP key for finding session\u001b[0m\u001b[1;33m\u001b[0m\u001b[0m\n\u001b[0m\u001b[0;32m      9\u001b[0m     \u001b[0mtime_diff_session\u001b[0m \u001b[1;33m=\u001b[0m \u001b[0mrow\u001b[0m\u001b[1;33m[\u001b[0m\u001b[1;34m'Datetime'\u001b[0m\u001b[1;33m]\u001b[0m \u001b[1;33m-\u001b[0m \u001b[0mlast_access\u001b[0m\u001b[1;33m[\u001b[0m\u001b[0msession_key\u001b[0m\u001b[1;33m]\u001b[0m  \u001b[1;31m# session time diff\u001b[0m\u001b[1;33m\u001b[0m\u001b[0m\n\u001b[0;32m     10\u001b[0m     \u001b[0mtime_diff_user\u001b[0m \u001b[1;33m=\u001b[0m \u001b[0mrow\u001b[0m\u001b[1;33m[\u001b[0m\u001b[1;34m'Datetime'\u001b[0m\u001b[1;33m]\u001b[0m \u001b[1;33m-\u001b[0m \u001b[0mlast_access\u001b[0m\u001b[1;33m[\u001b[0m\u001b[0muser_key\u001b[0m\u001b[1;33m]\u001b[0m  \u001b[1;31m# user time diff\u001b[0m\u001b[1;33m\u001b[0m\u001b[0m\n",
      "\u001b[1;31mAttributeError\u001b[0m: (\"'str' object has no attribute 'date'\", 'occurred at index 178')"
     ]
    }
   ],
   "source": [
    "df3 = df3.apply(get_log_user_info, axis=1)"
   ]
  },
  {
   "cell_type": "code",
   "execution_count": null,
   "metadata": {
    "collapsed": true
   },
   "outputs": [],
   "source": []
  },
  {
   "cell_type": "code",
   "execution_count": null,
   "metadata": {
    "collapsed": true
   },
   "outputs": [],
   "source": []
  }
 ],
 "metadata": {
  "kernelspec": {
   "display_name": "Python 3",
   "language": "python",
   "name": "python3"
  },
  "language_info": {
   "codemirror_mode": {
    "name": "ipython",
    "version": 3
   },
   "file_extension": ".py",
   "mimetype": "text/x-python",
   "name": "python",
   "nbconvert_exporter": "python",
   "pygments_lexer": "ipython3",
   "version": "3.6.2"
  }
 },
 "nbformat": 4,
 "nbformat_minor": 2
}
