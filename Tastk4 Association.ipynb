{
 "cells": [
  {
   "cell_type": "code",
   "execution_count": 2,
   "metadata": {},
   "outputs": [
    {
     "name": "stdout",
     "output_type": "stream",
     "text": [
      "<class 'pandas.core.frame.DataFrame'>\n",
      "RangeIndex: 459258 entries, 0 to 459257\n",
      "Data columns (total 5 columns):\n",
      "Location           459258 non-null int64\n",
      "Transaction_Id     459258 non-null int64\n",
      "Transactin_Date    459258 non-null object\n",
      "Product_Name       459258 non-null object\n",
      "Quantity           459258 non-null int64\n",
      "dtypes: int64(3), object(2)\n",
      "memory usage: 17.5+ MB\n",
      "None\n",
      "   Location  Transaction_Id Transactin_Date    Product_Name  Quantity\n",
      "0         2           12359      2012-10-23       Candy Bar         1\n",
      "1         9           12362      2012-10-23   Pain Reliever         1\n",
      "2         9           12362      2012-10-23   Pain Reliever         1\n",
      "3         5           12365      2012-10-23      Toothpaste         1\n",
      "4         2           12371      2012-10-23             Bow         1\n",
      "5         6           12380      2012-10-23  Greeting Cards         1\n",
      "6         1           12383      2012-10-23   Pain Reliever         1\n",
      "7         1           12383      2012-10-23   Pain Reliever         1\n",
      "8         7           12386      2012-10-23   Pain Reliever         1\n",
      "9         7           12386      2012-10-23   Pain Reliever         1\n"
     ]
    }
   ],
   "source": [
    "import pandas as pd\n",
    "\n",
    "# load the bank transaction dataset\n",
    "df = pd.read_csv('Casestudy2-Data-Py/pos_transactions.csv')\n",
    "\n",
    "# info and the first 10 transactions\n",
    "print(df.info())\n",
    "print(df.head(10))"
   ]
  },
  {
   "cell_type": "code",
   "execution_count": 3,
   "metadata": {},
   "outputs": [
    {
     "name": "stdout",
     "output_type": "stream",
     "text": [
      "Transaction_Id\n",
      "12359                                  [Candy Bar]\n",
      "12362               [Pain Reliever, Pain Reliever]\n",
      "12365                                 [Toothpaste]\n",
      "12371                                        [Bow]\n",
      "12380                             [Greeting Cards]\n",
      "12383               [Pain Reliever, Pain Reliever]\n",
      "12386               [Pain Reliever, Pain Reliever]\n",
      "12392                          [Shampoo, Magazine]\n",
      "12401    [Candy Bar, Candy Bar, Pencils, Magazine]\n",
      "12404                                  [Candy Bar]\n",
      "Name: Product_Name, dtype: object\n"
     ]
    }
   ],
   "source": [
    "# group by Transaction_ID, then list all product name\n",
    "transactions = df.groupby(['Transaction_Id'])['Product_Name'].apply(list)\n",
    "\n",
    "print(transactions.head(10))"
   ]
  },
  {
   "cell_type": "code",
   "execution_count": 10,
   "metadata": {},
   "outputs": [
    {
     "name": "stdout",
     "output_type": "stream",
     "text": [
      "[RelationRecord(items=frozenset({'Bow'}), support=0.054645, ordered_statistics=[OrderedStatistic(items_base=frozenset(), items_add=frozenset({'Bow'}), confidence=0.054645, lift=1.0)]), RelationRecord(items=frozenset({'Candy Bar'}), support=0.171005, ordered_statistics=[OrderedStatistic(items_base=frozenset(), items_add=frozenset({'Candy Bar'}), confidence=0.171005, lift=1.0)]), RelationRecord(items=frozenset({'Greeting Cards'}), support=0.146885, ordered_statistics=[OrderedStatistic(items_base=frozenset(), items_add=frozenset({'Greeting Cards'}), confidence=0.146885, lift=1.0)]), RelationRecord(items=frozenset({'Magazine'}), support=0.241305, ordered_statistics=[OrderedStatistic(items_base=frozenset(), items_add=frozenset({'Magazine'}), confidence=0.241305, lift=1.0)]), RelationRecord(items=frozenset({'Pain Reliever'}), support=0.0267, ordered_statistics=[OrderedStatistic(items_base=frozenset(), items_add=frozenset({'Pain Reliever'}), confidence=0.0267, lift=1.0)])]\n"
     ]
    }
   ],
   "source": [
    "from apyori import apriori\n",
    "\n",
    "# type cast the transactions from pandas into normal list format and run apriori\n",
    "transaction_list = list(transactions)\n",
    "results = list(apriori(transaction_list, min_support=0.01))\n",
    "\n",
    "# print first 5 rules\n",
    "print(results[:5])"
   ]
  },
  {
   "cell_type": "code",
   "execution_count": 11,
   "metadata": {},
   "outputs": [
    {
     "name": "stdout",
     "output_type": "stream",
     "text": [
      "         Left_side      Right_side   Support  Confidence      Lift\n",
      "0                              Bow  0.054645    0.054645  1.000000\n",
      "1                        Candy Bar  0.171005    0.171005  1.000000\n",
      "2                   Greeting Cards  0.146885    0.146885  1.000000\n",
      "3                         Magazine  0.241305    0.241305  1.000000\n",
      "4                    Pain Reliever  0.026700    0.026700  1.000000\n",
      "5                          Pencils  0.134925    0.134925  1.000000\n",
      "6                             Pens  0.143575    0.143575  1.000000\n",
      "7                          Perfume  0.089960    0.089960  1.000000\n",
      "8                   Photo Processi  0.058480    0.058480  1.000000\n",
      "9                   Prescription M  0.014505    0.014505  1.000000\n",
      "10                         Shampoo  0.033800    0.033800  1.000000\n",
      "11                            Soap  0.043025    0.043025  1.000000\n",
      "12                      Toothbrush  0.067350    0.067350  1.000000\n",
      "13                      Toothpaste  0.160425    0.160425  1.000000\n",
      "14                  Wrapping Paper  0.050990    0.050990  1.000000\n",
      "15             Bow      Toothbrush  0.011340    0.207521  3.081236\n",
      "16      Toothbrush             Bow  0.011340    0.168374  3.081236\n",
      "17       Candy Bar  Greeting Cards  0.043660    0.255314  1.738191\n",
      "18  Greeting Cards       Candy Bar  0.043660    0.297239  1.738191\n",
      "19       Candy Bar        Magazine  0.040535    0.237040  0.982325\n"
     ]
    }
   ],
   "source": [
    "def convert_apriori_results_to_pandas_df(results):\n",
    "    rules = []\n",
    "    \n",
    "    for rule_set in results:\n",
    "        for rule in rule_set.ordered_statistics:\n",
    "            # items_base = left side of rules, items_add = right side\n",
    "            # support, confidence and lift for respective rules\n",
    "            rules.append([','.join(rule.items_base), ','.join(rule.items_add),\n",
    "                         rule_set.support, rule.confidence, rule.lift]) \n",
    "    \n",
    "    # typecast it to pandas df\n",
    "    return pd.DataFrame(rules, columns=['Left_side', 'Right_side', 'Support', 'Confidence', 'Lift']) \n",
    "\n",
    "result_df = convert_apriori_results_to_pandas_df(results)\n",
    "\n",
    "print(result_df.head(20))"
   ]
  },
  {
   "cell_type": "code",
   "execution_count": 12,
   "metadata": {},
   "outputs": [
    {
     "name": "stdout",
     "output_type": "stream",
     "text": [
      "                    Left_side      Right_side   Support  Confidence      Lift\n",
      "49                    Perfume      Toothbrush  0.021820    0.242552  3.601370\n",
      "50                 Toothbrush         Perfume  0.021820    0.323979  3.601370\n",
      "16                 Toothbrush             Bow  0.011340    0.168374  3.081236\n",
      "15                        Bow      Toothbrush  0.011340    0.207521  3.081236\n",
      "52         Candy Bar,Magazine  Greeting Cards  0.016665    0.411126  2.798966\n",
      "65         Toothpaste,Pencils       Candy Bar  0.011390    0.463762  2.711980\n",
      "53    Greeting Cards,Magazine       Candy Bar  0.016665    0.458649  2.682078\n",
      "71        Toothpaste,Magazine  Greeting Cards  0.011945    0.377230  2.568202\n",
      "62        Toothpaste,Magazine       Candy Bar  0.013720    0.433286  2.533762\n",
      "56  Greeting Cards,Toothpaste       Candy Bar  0.013175    0.410692  2.401637\n"
     ]
    }
   ],
   "source": [
    "# sort all acquired rules descending by lift\n",
    "result_df = result_df.sort_values(by='Lift', ascending=False)\n",
    "print(result_df.head(10))"
   ]
  },
  {
   "cell_type": "code",
   "execution_count": null,
   "metadata": {},
   "outputs": [],
   "source": []
  },
  {
   "cell_type": "code",
   "execution_count": null,
   "metadata": {},
   "outputs": [],
   "source": []
  }
 ],
 "metadata": {
  "kernelspec": {
   "display_name": "Python 3",
   "language": "python",
   "name": "python3"
  },
  "language_info": {
   "codemirror_mode": {
    "name": "ipython",
    "version": 3
   },
   "file_extension": ".py",
   "mimetype": "text/x-python",
   "name": "python",
   "nbconvert_exporter": "python",
   "pygments_lexer": "ipython3",
   "version": "3.6.4"
  }
 },
 "nbformat": 4,
 "nbformat_minor": 2
}
